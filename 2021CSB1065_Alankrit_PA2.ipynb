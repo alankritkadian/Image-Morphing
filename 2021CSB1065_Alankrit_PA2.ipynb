{
 "cells": [
  {
   "attachments": {},
   "cell_type": "markdown",
   "metadata": {},
   "source": [
    "### Importing Libraries"
   ]
  },
  {
   "cell_type": "code",
   "execution_count": 24,
   "metadata": {},
   "outputs": [],
   "source": [
    "import dlib\n",
    "import cv2\n",
    "import numpy as np\n",
    "import imageio\n",
    "from scipy.spatial import Delaunay"
   ]
  },
  {
   "attachments": {},
   "cell_type": "markdown",
   "metadata": {},
   "source": [
    "### Preprocessing\n"
   ]
  },
  {
   "attachments": {},
   "cell_type": "markdown",
   "metadata": {},
   "source": [
    "Function taking path input and returning images and their greyscale counterparts"
   ]
  },
  {
   "cell_type": "code",
   "execution_count": 25,
   "metadata": {},
   "outputs": [],
   "source": [
    "def getImages(path1, path2):\n",
    "    img_1 = cv2.imread(path1)\n",
    "    gray_1 = cv2.cvtColor(src=img_1, code=cv2.COLOR_BGR2GRAY)\n",
    "    img_2 = cv2.imread(path2)\n",
    "    img_2 = cv2.resize(img_2, (img_1.shape[1],img_1.shape[0]), interpolation = cv2.INTER_CUBIC)\n",
    "    gray_2 = cv2.cvtColor(src=img_2, code=cv2.COLOR_BGR2GRAY)\n",
    "    return img_1, gray_1, img_2, gray_2\n"
   ]
  },
  {
   "attachments": {},
   "cell_type": "markdown",
   "metadata": {},
   "source": [
    "### DLib Landmark Detection"
   ]
  },
  {
   "attachments": {},
   "cell_type": "markdown",
   "metadata": {},
   "source": [
    "Function taking gray images and using dlib library to get landmarkpoints and returning 2 lists for both the images"
   ]
  },
  {
   "cell_type": "code",
   "execution_count": 26,
   "metadata": {},
   "outputs": [],
   "source": [
    "def DLibLandmarks(gray_1, gray_2):\n",
    "    #loading the dlib model\n",
    "    detector = dlib.get_frontal_face_detector()\n",
    "    predictor = dlib.shape_predictor(\"shape_predictor_68_face_landmarks.dat\")\n",
    "    #detetcting the faces\n",
    "    faces_1 = detector(gray_1)\n",
    "    faces_2 = detector(gray_2)\n",
    "    #adding the 8 points of the boundaries\n",
    "    landmark_points_1 = []\n",
    "    landmark_points_1.append([0,gray_1.shape[0]-1])\n",
    "    landmark_points_1.append([0,0])\n",
    "    landmark_points_1.append([gray_1.shape[1]/2,0])\n",
    "    landmark_points_1.append([gray_1.shape[1]/2,gray_1.shape[0]-1])\n",
    "    landmark_points_1.append([0,gray_1.shape[0]/2])\n",
    "    landmark_points_1.append([gray_1.shape[1]-1,gray_1.shape[0]/2])\n",
    "    landmark_points_1.append([gray_1.shape[1]-1,0])\n",
    "    landmark_points_1.append([gray_1.shape[1]-1,gray_1.shape[0]-1])\n",
    "    #adding the 68 points of the face\n",
    "    for face in faces_1:\n",
    "        landmark_1 = predictor(image=gray_1, box=face)\n",
    "        for n in range(0, 68):\n",
    "            x = landmark_1.part(n).x\n",
    "            y = landmark_1.part(n).y\n",
    "            landmark_points_1.append([x, y])\n",
    "    #adding the 8 points of the boundaries\n",
    "    landmark_points_2 = []\n",
    "    landmark_points_2.append([0,gray_2.shape[0]-1])\n",
    "    landmark_points_2.append([0,0])\n",
    "    landmark_points_2.append([gray_2.shape[1]/2,0])\n",
    "    landmark_points_2.append([gray_2.shape[1]/2,gray_2.shape[0]-1])\n",
    "    landmark_points_2.append([0,gray_2.shape[0]/2])\n",
    "    landmark_points_2.append([gray_2.shape[1]-1,gray_2.shape[0]/2])\n",
    "    landmark_points_2.append([gray_2.shape[1]-1,0])\n",
    "    landmark_points_2.append([gray_2.shape[1]-1,gray_2.shape[0]-1])\n",
    "    #adding the 68 points of the face\n",
    "    for face in faces_2:\n",
    "        landmark_2 = predictor(image=gray_2, box=face)\n",
    "        for n in range(0, 68):\n",
    "            x = landmark_2.part(n).x\n",
    "            y = landmark_2.part(n).y\n",
    "            landmark_points_2.append([x, y])\n",
    "    return landmark_points_1, landmark_points_2\n"
   ]
  },
  {
   "attachments": {},
   "cell_type": "markdown",
   "metadata": {},
   "source": [
    "### Delaunay Triangulation"
   ]
  },
  {
   "attachments": {},
   "cell_type": "markdown",
   "metadata": {},
   "source": [
    "Function to take landmark points and return 2 list of traingle points in the bothe images"
   ]
  },
  {
   "cell_type": "code",
   "execution_count": 27,
   "metadata": {},
   "outputs": [],
   "source": [
    "def DelaunayTriangulation(landmark_points_1, landmark_points_2):\n",
    "    #Delaunay Triangulation\n",
    "    tri_1 = Delaunay(landmark_points_1)\n",
    "    pt1 = np.array(landmark_points_1)\n",
    "    pt2 = np.array(landmark_points_2)\n",
    "    #getting the triangles corresponding to the indexes based on tri1 indexes\n",
    "    triangles_1 = pt1[tri_1.simplices]\n",
    "    triangles_2 = pt2[tri_1.simplices]\n",
    "    return triangles_1, triangles_2"
   ]
  },
  {
   "attachments": {},
   "cell_type": "markdown",
   "metadata": {},
   "source": [
    "### Combined PreMorph function"
   ]
  },
  {
   "attachments": {},
   "cell_type": "markdown",
   "metadata": {},
   "source": [
    "A function to performa all the above steps given the path and return the images along with triangle points"
   ]
  },
  {
   "cell_type": "code",
   "execution_count": 28,
   "metadata": {},
   "outputs": [],
   "source": [
    "def PreMorph(path1, path2):\n",
    "    img_1, gray_1, img_2, gray_2 = getImages(path1, path2)\n",
    "    landmark_points_1, landmark_points_2 = DLibLandmarks(gray_1, gray_2)\n",
    "    triangles_1, triangles_2 = DelaunayTriangulation(landmark_points_1, landmark_points_2)\n",
    "    return img_1, img_2, triangles_1, triangles_2"
   ]
  },
  {
   "attachments": {},
   "cell_type": "markdown",
   "metadata": {},
   "source": [
    "## Affine Transformation"
   ]
  },
  {
   "attachments": {},
   "cell_type": "markdown",
   "metadata": {},
   "source": [
    "A function to get the points on the morph image based on alpha"
   ]
  },
  {
   "cell_type": "code",
   "execution_count": 29,
   "metadata": {},
   "outputs": [],
   "source": [
    "def morph_points(p1, p2, alpha):\n",
    "    return (1 - alpha) * p1 + alpha * p2"
   ]
  },
  {
   "attachments": {},
   "cell_type": "markdown",
   "metadata": {},
   "source": [
    "A function to warp a single image into the structure of the second image given the triangulation"
   ]
  },
  {
   "cell_type": "code",
   "execution_count": 30,
   "metadata": {},
   "outputs": [],
   "source": [
    "def warp_images(img1, img2, triangles1, triangles2):\n",
    "    for i in range(0,len(triangles1)):\n",
    "        # Find bounding rectangle for each triangle\n",
    "        r1 = cv2.boundingRect(np.float32(triangles1[i]))\n",
    "        r2 = cv2.boundingRect(np.float32(triangles2[i]))\n",
    "        # Offset points by left top corner of the respective rectangles\n",
    "        t1Crop = triangles1[i] - [r1[0], r1[1]]\n",
    "        t2Crop = triangles2[i] - [r2[0], r2[1]]\n",
    "        warp_matrix = cv2.getAffineTransform(np.float32(t1Crop), np.float32(t2Crop))\n",
    "        # Apply warpImage to small rectangular patches\n",
    "        img1_crop = img1[r1[1]:r1[1] + r1[3], r1[0]:r1[0] + r1[2]]\n",
    "        img2_crop = cv2.warpAffine(img1_crop, warp_matrix, (r2[2], r2[3]), None, flags=cv2.INTER_LINEAR, borderMode=cv2.BORDER_REFLECT_101)\n",
    "        # Get mask by filling triangle\n",
    "        mask = np.zeros((r2[3], r2[2], 3), dtype = np.float32)\n",
    "        cv2.fillConvexPoly(mask, np.int32(t2Crop), (1.0, 1.0, 1.0), 16, 0)\n",
    "        img2Rect = np.copy(img2[r2[1]:r2[1]+r2[3], r2[0]:r2[0]+r2[2]])\n",
    "        img2Rect = img2Rect * (1 - mask) + img2_crop * mask\n",
    "        # Copy triangular region of the rectangular patch to the output image\n",
    "        img2[r2[1]:r2[1]+r2[3], r2[0]:r2[0]+r2[2]] = img2Rect\n",
    "        \n",
    "    return img2  "
   ]
  },
  {
   "attachments": {},
   "cell_type": "markdown",
   "metadata": {},
   "source": [
    "A Function to Morph images given their triangulation and alpha"
   ]
  },
  {
   "cell_type": "code",
   "execution_count": 31,
   "metadata": {},
   "outputs": [],
   "source": [
    "def morph_images(img_1, img_2, triangles_1, triangles_2,alpha):\n",
    "    #Finds the morph points \n",
    "    morph_points_ = morph_points(triangles_1,triangles_2,alpha)\n",
    "    #creates a copy of images\n",
    "    t1 = img_1.copy()\n",
    "    t2 = img_2.copy()   \n",
    "    #warps first on the morph image\n",
    "    morphed_image_1 = warp_images(img_1, t2, triangles_1, morph_points_)\n",
    "    #warps second on the moprh image\n",
    "    morphed_image_2 = warp_images(img_2, t1, triangles_2,  morph_points_)\n",
    "    #takes weighted average of the pixels\n",
    "    morphed_image = morphed_image_1 * (1 - alpha) + morphed_image_2 * alpha\n",
    "    #preprocessing for gif generation\n",
    "    morphed_image = np.uint8(morphed_image)\n",
    "    morphed_image_rgb = cv2.cvtColor(morphed_image, cv2.COLOR_BGR2RGB)\n",
    "    return morphed_image_rgb"
   ]
  },
  {
   "attachments": {},
   "cell_type": "markdown",
   "metadata": {},
   "source": [
    "### File Read function"
   ]
  },
  {
   "attachments": {},
   "cell_type": "markdown",
   "metadata": {},
   "source": [
    "Function to read File input and return the triangulation"
   ]
  },
  {
   "cell_type": "code",
   "execution_count": 34,
   "metadata": {},
   "outputs": [],
   "source": [
    "def FileRead():\n",
    "    file = open(\"landmarks.txt\", \"r\")\n",
    "    lines = file.readlines()\n",
    "    points_1 = []\n",
    "    points_2 = []\n",
    "    for line in lines:\n",
    "        line = line.strip()\n",
    "        line = [float(x) for x in line.split(\" \")]\n",
    "        points_1.append([line[0], line[1]])\n",
    "        points_2.append([line[2], line[3]])\n",
    "\n",
    "    file_triangles_1, file_triangles_2 = DelaunayTriangulation(points_1, points_2)\n",
    "    file.close()\n",
    "    return file_triangles_1, file_triangles_2\n"
   ]
  },
  {
   "attachments": {},
   "cell_type": "markdown",
   "metadata": {},
   "source": [
    "## Final Code Block"
   ]
  },
  {
   "attachments": {},
   "cell_type": "markdown",
   "metadata": {},
   "source": [
    "Final Code block that has global variables and needs to run\n",
    "\n",
    "This is concise since any outside changes won't affect any function calls\n",
    "\n",
    "uncomment the second line if triangulation is to be done from file Input"
   ]
  },
  {
   "cell_type": "code",
   "execution_count": 35,
   "metadata": {},
   "outputs": [],
   "source": [
    "img_1, img_2, triangles_1, triangles_2 = PreMorph('face1.jpg','face2.jpg')\n",
    "# triangles_1, triangles_2 = FileRead() \n",
    "morphed_images = []\n",
    "for i in range(0,61):\n",
    "    morphed_images.append(morph_images(img_1,img_2,triangles_1,triangles_2,i/60))\n",
    "imageio.mimwrite('result.gif',morphed_images,fps=10)\n"
   ]
  }
 ],
 "metadata": {
  "kernelspec": {
   "display_name": "Python 3",
   "language": "python",
   "name": "python3"
  },
  "language_info": {
   "codemirror_mode": {
    "name": "ipython",
    "version": 3
   },
   "file_extension": ".py",
   "mimetype": "text/x-python",
   "name": "python",
   "nbconvert_exporter": "python",
   "pygments_lexer": "ipython3",
   "version": "3.8.16"
  },
  "orig_nbformat": 4,
  "vscode": {
   "interpreter": {
    "hash": "d32716b7d7f1c08eeb54350e15ccd05a8767ccb8b88fcec2a42f3a77b25c86d3"
   }
  }
 },
 "nbformat": 4,
 "nbformat_minor": 2
}
